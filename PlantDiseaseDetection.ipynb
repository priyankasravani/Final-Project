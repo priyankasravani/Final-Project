{
  "nbformat": 4,
  "nbformat_minor": 0,
  "metadata": {
    "colab": {
      "name": "PlantDiseaseDetection.ipynb",
      "provenance": []
    },
    "kernelspec": {
      "name": "python3",
      "display_name": "Python 3"
    }
  },
  "cells": [
    {
      "cell_type": "markdown",
      "metadata": {
        "id": "_uHLLCXpQtRi"
      },
      "source": [
        "#importing required libraries"
      ]
    },
    {
      "cell_type": "code",
      "metadata": {
        "id": "eAeAsMmaHnLd"
      },
      "source": [
        "import tensorflow as tf\n",
        "import pandas as pd\n",
        "import matplotlib.pyplot as plt\n",
        "import matplotlib.image as mpimg\n",
        "import numpy as np\n",
        "import pandas as pd\n",
        "import os, sys\n",
        "import keras\n",
        "\n",
        "from PIL import Image\n",
        "from keras import regularizers\n",
        "from keras.preprocessing.image import ImageDataGenerator, array_to_img, img_to_array, load_img\n"
      ],
      "execution_count": 21,
      "outputs": []
    },
    {
      "cell_type": "code",
      "metadata": {
        "id": "rwenYjHjtiIW"
      },
      "source": [
        "keras.backend.clear_session()"
      ],
      "execution_count": 9,
      "outputs": []
    },
    {
      "cell_type": "code",
      "metadata": {
        "id": "9d_z7uRu8YNe",
        "outputId": "dc292972-968c-4b04-b800-2b5a841b3f1f",
        "colab": {
          "base_uri": "https://localhost:8080/"
        }
      },
      "source": [
        "from google.colab import drive\n",
        "drive.mount('/content/drive')"
      ],
      "execution_count": 2,
      "outputs": [
        {
          "output_type": "stream",
          "text": [
            "Mounted at /content/drive\n"
          ],
          "name": "stdout"
        }
      ]
    },
    {
      "cell_type": "code",
      "metadata": {
        "id": "wiRRRiWCHRwU",
        "outputId": "53bd2c77-8005-4266-8150-194f7ed2c8b5",
        "colab": {
          "base_uri": "https://localhost:8080/"
        }
      },
      "source": [
        "#Checking if the unzip dataset is available \n",
        "\n",
        "!ls 'drive/My Drive/Plants'\n"
      ],
      "execution_count": 6,
      "outputs": [
        {
          "output_type": "stream",
          "text": [
            "archive.zip  PlantDoc-Dataset-master  PlantDoc-Dataset-master.zip  PlantVillage\n"
          ],
          "name": "stdout"
        }
      ]
    },
    {
      "cell_type": "code",
      "metadata": {
        "id": "iC1ct8ZGIJ2m",
        "outputId": "0419715e-d82f-498b-e477-b2b0305028ef",
        "colab": {
          "base_uri": "https://localhost:8080/"
        }
      },
      "source": [
        "!ls 'drive/My Drive/Plants'\n"
      ],
      "execution_count": 4,
      "outputs": [
        {
          "output_type": "stream",
          "text": [
            "archive.zip  PlantDoc-Dataset-master.zip  plantvillage\tPlantVillage\n"
          ],
          "name": "stdout"
        }
      ]
    },
    {
      "cell_type": "markdown",
      "metadata": {
        "id": "KlblHvpYQ0wm"
      },
      "source": [
        "#Dataset"
      ]
    },
    {
      "cell_type": "markdown",
      "metadata": {
        "id": "p5L9p48rQ3dy"
      },
      "source": [
        "unzipping dataset"
      ]
    },
    {
      "cell_type": "code",
      "metadata": {
        "id": "rEyZsWlhHvou"
      },
      "source": [
        "!unzip  \"drive/My Drive/Plants/PlantDoc-Dataset-master.zip\" -d \"drive/My Drive/Plants/\""
      ],
      "execution_count": null,
      "outputs": []
    },
    {
      "cell_type": "code",
      "metadata": {
        "id": "31n0Bru9IXRS"
      },
      "source": [
        "!unzip  \"drive/My Drive/Plants/archive.zip\" -d \"drive/My Drive/Plants/\""
      ],
      "execution_count": null,
      "outputs": []
    },
    {
      "cell_type": "markdown",
      "metadata": {
        "id": "EJtBdSIvQ_Ya"
      },
      "source": [
        "preprocessing & reading images\n"
      ]
    },
    {
      "cell_type": "code",
      "metadata": {
        "id": "GrztJjlDuGeG"
      },
      "source": [
        "#Types of Plant \n",
        "\n",
        "PlantVillageTypes =['Tomato_healthy' , 'Tomato__Tomato_mosaic_virus', 'Tomato__Tomato_YellowLeaf__Curl_Virus',\n",
        "                      'Tomato__Target_Spot','Tomato_Spider_mites_Two_spotted_spider_mite','Tomato_Septoria_leaf_spot',\n",
        "                      'Tomato_Leaf_Mold','Tomato_Late_blight', 'Tomato_Early_blight','Tomato_Bacterial_spot',\n",
        "                      'Potato___healthy','Potato___Late_blight','Potato___Early_blight','Pepper__bell___healthy','Pepper__bell___Bacterial_spot'\n",
        "]\n",
        "\n",
        "\n",
        "PlantDocTypes     = ['Cherry leaf', 'Blueberry leaf', 'Bell_pepper leaf', 'Bell_pepper leaf spot', 'Apple rust leaf',\n",
        "                     'Apple leaf' , 'Apple Scab Leaf','Tomato leaf late blight','Tomato leaf mosaic virus','Tomato leaf yellow virus',\n",
        "                     'Tomato leaf', 'Tomato mold leaf','Tomato two spotted spider mites leaf','grape leaf black rot','grape leaf',\n",
        "                     'Corn Gray leaf spot','Corn leaf blight','Corn rust leaf','Peach leaf','Potato leaf early blight',\n",
        "                     'Potato leaf late blight','Raspberry leaf','Soyabean leaf','Squash Powdery mildew leaf','Strawberry leaf',\n",
        "                     'Tomato Early blight leaf','Tomato Septoria leaf spot','Tomato leaf bacterial spot'\n",
        "]\n"
      ],
      "execution_count": 22,
      "outputs": []
    },
    {
      "cell_type": "code",
      "metadata": {
        "id": "ad5KRsZzw5X9",
        "outputId": "bd3bf764-cdea-487d-dd90-c737c399fd5f",
        "colab": {
          "base_uri": "https://localhost:8080/"
        }
      },
      "source": [
        "print(len(PlantDocTypes))\n",
        "print(len(PlantVillageTypes))"
      ],
      "execution_count": 23,
      "outputs": [
        {
          "output_type": "stream",
          "text": [
            "28\n",
            "15\n"
          ],
          "name": "stdout"
        }
      ]
    },
    {
      "cell_type": "code",
      "metadata": {
        "id": "ePAEwL2GABSc",
        "outputId": "73b6d4b4-6ff9-4a40-e7c1-98c687d8578c",
        "colab": {
          "base_uri": "https://localhost:8080/"
        }
      },
      "source": [
        "train_datagen = ImageDataGenerator(   rescale=1./255,\n",
        "                                      shear_range=0.2,\n",
        "                                      zoom_range=0.2,\n",
        "                                      horizontal_flip=True)\n",
        "\n",
        "test_datagen = ImageDataGenerator(rescale=1./255)\n",
        "\n",
        "\n",
        "\n",
        "train_generator_Village = train_datagen.flow_from_directory(\n",
        "        'drive/My Drive/Plants/PlantVillage',  \n",
        "        target_size=(256, 256),  shuffle=True,\n",
        "        batch_size=16,classes=PlantVillageTypes,\n",
        "        class_mode='categorical'\n",
        "        )  "
      ],
      "execution_count": 24,
      "outputs": [
        {
          "output_type": "stream",
          "text": [
            "Found 14830 images belonging to 15 classes.\n"
          ],
          "name": "stdout"
        }
      ]
    },
    {
      "cell_type": "code",
      "metadata": {
        "id": "I-68t58tkNr9"
      },
      "source": [
        ""
      ],
      "execution_count": null,
      "outputs": []
    }
  ]
}